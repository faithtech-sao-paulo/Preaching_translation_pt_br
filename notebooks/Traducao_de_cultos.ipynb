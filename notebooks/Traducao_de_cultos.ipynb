{
  "cells": [
    {
      "cell_type": "markdown",
      "metadata": {
        "id": "aLUd2muMZI-E"
      },
      "source": [
        "#Contexto:\n",
        "\n",
        "1.   Missionária me pediu para traduzir vídeo de pregações pois ela não sabe falar em inglês.    \n",
        "2.   Seria melhor se pudéssemos gerar um áudio final em português e não apenas o texto.\n",
        "3.   Utilizar este desafio como um projeto de codigo aberto, de tempo reduzido de execução e para treinar membros da FTSP em como usar o Git, Python, APIs da OpenAI.\n",
        "4.   Faremos o MVP: JV e PA\n",
        "5.   Faremos no Google Colab até termos uma versão funcionando e então migraremos para o Github em códigos python melhor formatados"
      ]
    },
    {
      "cell_type": "markdown",
      "metadata": {
        "id": "OQsVjRl58VO8"
      },
      "source": [
        "#Escopo:\n",
        "\n",
        "Abaixo um plano de como resolver esse desafio.    \n",
        "V1:\n",
        "1.   Usuário fornece uma URL de um vídeo no youtube\n",
        "2.   Obtemos a transcrição via Python e API do youtube\n",
        "3.   Traduzimos a transcrição de inglês para português\n",
        "4.   Usar o Whisper para gerar a fala em português\n",
        "5.   Gerar um vídeo com este MP3 da narração e hospedar no Youtube.   \n",
        "\n",
        "V2:\n",
        "1.   Se o vídeo não possuir transcrição no Youtube então converter via Whisper ou similar\n",
        "2.   Se o video possuir transcrição em pt-br então pular a etapa da transcrição\n",
        "3.   Verificar como incluir os timestamps de pausa da fala e outros momentos de silencio."
      ]
    },
    {
      "cell_type": "markdown",
      "metadata": {
        "id": "r1YB6StB8dXW"
      },
      "source": [
        "# V1 - Conclusão em:"
      ]
    },
    {
      "cell_type": "code",
      "execution_count": null,
      "metadata": {
        "id": "02FDWERG8OWo"
      },
      "outputs": [],
      "source": [
        "#@title A) Instalando biliotecas\n",
        "#@markdown #### <- Aqui basta clicar no play.\n",
        "%%capture\n",
        "\n",
        "%pip install --upgrade openai youtube_transcript_api"
      ]
    },
    {
      "cell_type": "code",
      "execution_count": null,
      "metadata": {
        "cellView": "form",
        "id": "OlmDw8JjpjG3"
      },
      "outputs": [],
      "source": [
        "#@title B) Codigo principal\n",
        "\n",
        "#@markdown <- Aqui carregamos o codigo principal. Basta clicar no play tambem.\n",
        "#@markdown OBS: preciso inserir o codigo abaixo\n",
        "\n",
        "# Carregando as bibliotecas\n",
        "import openai\n",
        "from google.colab import userdata\n",
        "\n",
        "# Inserindo a chave que pode ser obtida no site da OpenAI\n",
        "#openai.api_key=userdata.get('jvopenai')\n"
      ]
    },
    {
      "cell_type": "code",
      "execution_count": null,
      "metadata": {
        "colab": {
          "base_uri": "https://localhost:8080/"
        },
        "id": "lzSAA9l4fdRB",
        "outputId": "0878570e-bc64-4668-b79e-d2d0cebce624"
      },
      "outputs": [
        {
          "name": "stdout",
          "output_type": "stream",
          "text": [
            "[{'text': 'eu aposto que você aprendeu que o sal é', 'start': 0.0, 'duration': 4.17}, {'text': 'um grande velório na sua alimentação na', 'start': 2.55, 'duration': 3.78}, {'text': 'verdade porém essa informação tá', 'start': 4.17, 'duration': 4.11}, {'text': 'totalmente equivocada hoje eu vou falar', 'start': 6.33, 'duration': 3.479}, {'text': 'para vocês os benefícios do sal integral', 'start': 8.28, 'duration': 4.41}, {'text': 'ou sal não refinado tem para nossa saúde', 'start': 9.809, 'duration': 5.851}, {'text': 'Mas antes vou pedir para você que ainda', 'start': 12.69, 'duration': 5.07}, {'text': 'não se inscreveu no meu canal fazer a', 'start': 15.66, 'duration': 4.709}, {'text': 'sua inscrição deixar o seu like que está', 'start': 17.76, 'duration': 4.83}, {'text': 'gostando dos vídeos e ativar o Sininho', 'start': 20.369, 'duration': 4.621}, {'text': 'para receber as notificações e ficar por', 'start': 22.59, 'duration': 4.65}, {'text': 'dentro dos próximos conteúdos combinado', 'start': 24.99, 'duration': 3.81}, {'text': 'u', 'start': 27.24, 'duration': 3.85}, {'text': '[Música]', 'start': 28.8, 'duration': 3.3}, {'text': 'é', 'start': 31.09, 'duration': 3.45}, {'text': 'reparado que usei uma palavrinha depois', 'start': 32.1, 'duration': 6.31}, {'text': 'do sal eu disse sal integral ou disse', 'start': 34.54, 'duration': 7.44}, {'text': 'sal não refinado pois bem as pessoas não', 'start': 38.41, 'duration': 6.149}, {'text': 'costumam diferenciar o sal integral do', 'start': 41.98, 'duration': 4.14}, {'text': 'sal refinado e isso é um grande problema', 'start': 44.559, 'duration': 4.441}, {'text': 'já que o sal refinado é aquele que passa', 'start': 46.12, 'duration': 3.84}, {'text': 'por um processo de refinamento', 'start': 49.0, 'duration': 3.03}, {'text': 'utilizando produtos químicos para', 'start': 49.96, 'duration': 4.739}, {'text': 'retirar todos os seus minerais mantendo', 'start': 52.03, 'duration': 5.43}, {'text': 'apenas o cloreto de sódio que a que', 'start': 54.699, 'duration': 5.911}, {'text': 'salga e por conta das legislação se é', 'start': 57.46, 'duration': 5.76}, {'text': 'obrigado a reintroduzir o e outro então', 'start': 60.61, 'duration': 5.16}, {'text': 'quando você tem um sal na sua casa', 'start': 63.22, 'duration': 5.3}, {'text': 'refinado ele um dia foi um sal bruto', 'start': 65.77, 'duration': 6.15}, {'text': 'carregado de minerais a indústria a', 'start': 68.52, 'duration': 5.65}, {'text': 'agregou Marcele de produtos químicos', 'start': 71.92, 'duration': 4.74}, {'text': 'para poder remover todos os minerais e', 'start': 74.17, 'duration': 4.05}, {'text': 'deixar somente o cloreto de sódio que', 'start': 76.66, 'duration': 4.44}, {'text': 'salga por conta da legislação e da', 'start': 78.22, 'duration': 4.77}, {'text': 'necessidade do iodo a nossa antibiótico', 'start': 81.1, 'duration': 3.75}, {'text': 'a indústria vai lá e quem introduziu o', 'start': 82.99, 'duration': 4.5}, {'text': 'outro então você procura encontra sal', 'start': 84.85, 'duration': 5.73}, {'text': 'iodado eu preciso dizer que todos sal na', 'start': 87.49, 'duration': 6.43}, {'text': 'sua e já vem com o outro então por que', 'start': 90.58, 'duration': 5.29}, {'text': 'que o céu é dito que a eu dado Porque a', 'start': 93.92, 'duration': 3.54}, {'text': 'indústria resolveu todos os minerais', 'start': 95.87, 'duration': 3.35}, {'text': 'inclusive o iodo e depois ela', 'start': 97.46, 'duration': 3.66}, {'text': 'reintroduziu também se não é um', 'start': 99.22, 'duration': 3.759}, {'text': 'benefício ou exclusividade do sal', 'start': 101.12, 'duration': 4.05}, {'text': 'refinado essa é uma característica do', 'start': 102.979, 'duration': 5.041}, {'text': 'sal em seu Estado e Natura antes de', 'start': 105.17, 'duration': 4.82}, {'text': 'sofrer qualquer processo de refinamento', 'start': 108.02, 'duration': 5.13}, {'text': 'por isso tão importante é manter o sal', 'start': 109.99, 'duration': 5.2}, {'text': 'integral e sua vida Afinal de contas', 'start': 113.15, 'duration': 3.81}, {'text': 'você vai ter um sal do jeito que ele é', 'start': 115.19, 'duration': 3.63}, {'text': 'disponibilizado na natureza sem', 'start': 116.96, 'duration': 4.95}, {'text': 'interferência da indústria do homem este', 'start': 118.82, 'duration': 5.159}, {'text': 'sal é fundamental para a manutenção da', 'start': 121.91, 'duration': 4.29}, {'text': 'nossa EA pergunta que eu mais recebo', 'start': 123.979, 'duration': 3.991}, {'text': 'constantemente aliás Doutor onde', 'start': 126.2, 'duration': 3.72}, {'text': 'encontro esse sal Que tipo de sal é esse', 'start': 127.97, 'duration': 4.05}, {'text': 'Eu vou te dar alguns exemplos e você', 'start': 129.92, 'duration': 5.069}, {'text': 'logo vai entender sal de Mossoró sal', 'start': 132.02, 'duration': 7.29}, {'text': 'rosa do Himalaia sal marinho sal do', 'start': 134.989, 'duration': 7.681}, {'text': 'Atacama flor de sal entre tantos outros', 'start': 139.31, 'duration': 6.0}, {'text': 'tipos de sais presentes na natureza em', 'start': 142.67, 'duration': 4.53}, {'text': 'disponíveis para que você possa conhecer', 'start': 145.31, 'duration': 4.17}, {'text': 'e usar na sua casa e o que é que eles', 'start': 147.2, 'duration': 4.48}, {'text': 'têm de tão diferentes afinal e os', 'start': 149.48, 'duration': 4.63}, {'text': 'nutrientes como magnésio zinco ferro', 'start': 151.68, 'duration': 5.73}, {'text': 'cálcio potássio manganês aliás é o', 'start': 154.11, 'duration': 5.43}, {'text': 'manganês que dá a coloração rosa aquele', 'start': 157.41, 'duration': 4.38}, {'text': 'sal rosa do Himalaia minerais', 'start': 159.54, 'duration': 5.82}, {'text': 'fundamentais para o nosso organismo que', 'start': 161.79, 'duration': 6.84}, {'text': 'entre outras funções atua facilitando a', 'start': 165.36, 'duration': 4.91}, {'text': 'digestão e absorção de nutrientes', 'start': 168.63, 'duration': 4.37}, {'text': 'ajudando a produzir o ácido estomacal', 'start': 170.27, 'duration': 5.08}, {'text': 'transportando iodo para pagando a', 'start': 173.0, 'duration': 3.94}, {'text': 'tireoide permitido a produção de', 'start': 175.35, 'duration': 4.23}, {'text': 'hormônios carregando a vitamina C para', 'start': 176.94, 'duration': 5.19}, {'text': 'as células eliminando patógenos pelo', 'start': 179.58, 'duration': 4.92}, {'text': 'meio do ácido estomacal reduzindo o', 'start': 182.13, 'duration': 4.52}, {'text': 'colesterol LDL aumentando o HDL', 'start': 184.5, 'duration': 4.55}, {'text': 'melhorando a qualidade do Sono', 'start': 186.65, 'duration': 5.11}, {'text': 'aumentando a sensibilidade à insulina e', 'start': 189.05, 'duration': 5.92}, {'text': 'prevenindo a resistência mesma reduzindo', 'start': 191.76, 'duration': 4.59}, {'text': 'os hormônios do estresse como o cortisol', 'start': 194.97, 'duration': 4.59}, {'text': 'e adrenalina E ajudando na produção de', 'start': 196.35, 'duration': 4.49}, {'text': 'neurotransmissores', 'start': 199.56, 'duration': 3.48}, {'text': 'equilibrando os níveis de Magnésio e', 'start': 200.84, 'duration': 4.9}, {'text': 'cálcio favorecendo o desempenho nas', 'start': 203.04, 'duration': 5.19}, {'text': 'atividades físicas reduzindo cãibras', 'start': 205.74, 'duration': 4.68}, {'text': 'regulando glicose e inibindo a', 'start': 208.23, 'duration': 5.44}, {'text': 'osteoporose o 25 porcento do sódio do', 'start': 210.42, 'duration': 5.459}, {'text': 'nosso corpo está presente nos ossos', 'start': 213.67, 'duration': 4.11}, {'text': 'favorecer da condução de eletricidade', 'start': 215.879, 'duration': 4.771}, {'text': 'entre o cérebro e as células nervosas', 'start': 217.78, 'duration': 4.83}, {'text': 'influenciado no controle da pressão', 'start': 220.65, 'duration': 4.869}, {'text': 'arterial e frequência cardíaca sim os', 'start': 222.61, 'duration': 5.879}, {'text': 'minerais contidos no sal integral ajudam', 'start': 225.519, 'duration': 5.371}, {'text': 'a regular a quantidade de líquidos', 'start': 228.489, 'duration': 4.651}, {'text': 'dentro e fora das células por isso é tão', 'start': 230.89, 'duration': 3.629}, {'text': 'necessário para evitar o desequilíbrio', 'start': 233.14, 'duration': 2.659}, {'text': 'hidroeletrolítico', 'start': 234.519, 'duration': 5.28}, {'text': 'e também a tua ainda ajudando a', 'start': 235.799, 'duration': 6.421}, {'text': 'regulação da pressão arterial lógico', 'start': 239.799, 'duration': 5.401}, {'text': 'Além disso os sais minerais presentes no', 'start': 242.22, 'duration': 5.23}, {'text': 'sal ainda ajudam o transporte de', 'start': 245.2, 'duration': 4.2}, {'text': 'oxigênio nas células bem como no', 'start': 247.45, 'duration': 4.11}, {'text': 'funcionamento de diversas enzimas em', 'start': 249.4, 'duration': 4.8}, {'text': 'nosso organismo e sabe os batimentos', 'start': 251.56, 'duration': 5.19}, {'text': 'cardíacos que sem eles você não estaria', 'start': 254.2, 'duration': 5.069}, {'text': 'aí lendo esse texto pois bem O sal a', 'start': 256.75, 'duration': 4.829}, {'text': 'também a tua de uma maneira muito', 'start': 259.269, 'duration': 3.991}, {'text': 'importante participando desse processo', 'start': 261.579, 'duration': 4.65}, {'text': 'de contração muscular também é', 'start': 263.26, 'duration': 5.25}, {'text': 'importante destacar que não faz sentido', 'start': 266.229, 'duration': 4.841}, {'text': 'atacar o consumo de sal como causador de', 'start': 268.51, 'duration': 5.02}, {'text': 'a saúde quando verdadeiro responsável', 'start': 271.07, 'duration': 4.98}, {'text': 'por desenvolver as doenças crônicas é um', 'start': 273.53, 'duration': 5.13}, {'text': 'consumo obsceno de açucares bebidas', 'start': 276.05, 'duration': 3.65}, {'text': 'industrializadas', 'start': 278.66, 'duration': 3.78}, {'text': 'ultraprocessados embutidos the food', 'start': 279.7, 'duration': 5.4}, {'text': 'todos os produtos industrializados', 'start': 282.44, 'duration': 5.13}, {'text': 'carregados de açucares carboidratos', 'start': 285.1, 'duration': 5.92}, {'text': 'simples e muito sódio tudo isso levou a', 'start': 287.57, 'duration': 5.37}, {'text': 'sociedade a desenvolver o aumento da', 'start': 291.02, 'duration': 4.68}, {'text': 'circunferência abdominal elevação da', 'start': 292.94, 'duration': 5.22}, {'text': 'glicemia e consequentemente da insulina', 'start': 295.7, 'duration': 6.14}, {'text': 'e esse insulina Esse é o verdadeiro', 'start': 298.16, 'duration': 6.96}, {'text': 'retentor de água no organismo Sim quanto', 'start': 301.84, 'duration': 6.22}, {'text': 'mais elevado a sua insulina mais água', 'start': 305.12, 'duration': 5.34}, {'text': 'você retém no seu organismo muita gente', 'start': 308.06, 'duration': 4.65}, {'text': 'que é tratar as repercussões metabólicas', 'start': 310.46, 'duration': 4.92}, {'text': 'e uma resistência insulínica por conta', 'start': 312.71, 'duration': 4.41}, {'text': 'de um consumo excessivo de produtos', 'start': 315.38, 'duration': 2.81}, {'text': 'industrializados', 'start': 317.12, 'duration': 3.15}, {'text': 'ultraprocessados através de uma dieta', 'start': 318.19, 'duration': 4.12}, {'text': 'hipossódica agora o sal durou o', 'start': 320.27, 'duration': 4.07}, {'text': 'responsável por tudo', 'start': 322.31, 'duration': 5.61}, {'text': 'se você se entope de ultraprocessados É', 'start': 324.34, 'duration': 5.35}, {'text': 'lógico que os benefícios do sal integral', 'start': 327.92, 'duration': 4.749}, {'text': 'não serão sentidos e assim você que', 'start': 329.69, 'duration': 5.77}, {'text': 'significou a sua alimentação se exercita', 'start': 332.669, 'duration': 6.24}, {'text': 'faz jejum low carb poder acolher os', 'start': 335.46, 'duration': 6.299}, {'text': 'benefícios especialmente você que', 'start': 338.909, 'duration': 4.681}, {'text': 'iniciou a mudança no seu estilo de vida', 'start': 341.759, 'duration': 4.791}, {'text': 'vejo Hero low carb mas a mudança', 'start': 343.59, 'duration': 5.789}, {'text': 'drástica no seu comportamento alimentar', 'start': 346.55, 'duration': 6.369}, {'text': 'é exatamente isso que vai corrigir a', 'start': 349.379, 'duration': 6.84}, {'text': 'resistência insulínica e causar a queda', 'start': 352.919, 'duration': 6.18}, {'text': 'dessa insulina portanto Só há uma', 'start': 356.219, 'duration': 5.311}, {'text': 'maneira de você melhorar esse problema', 'start': 359.099, 'duration': 4.771}, {'text': 'de pressão arterial e não é mantendo', 'start': 361.53, 'duration': 5.699}, {'text': 'seus hábitos ruins apenas excluindo o', 'start': 363.87, 'duration': 5.99}, {'text': 'sal ou usando algum sal light é', 'start': 367.229, 'duration': 5.06}, {'text': 'transformando a sua vida', 'start': 369.86, 'duration': 4.839}, {'text': 'ressignificando ela através de uma', 'start': 372.289, 'duration': 4.331}, {'text': 'mudança comportamental e é necessário', 'start': 374.699, 'duration': 5.52}, {'text': 'que caia abruptamente esse consumo', 'start': 376.62, 'duration': 5.759}, {'text': 'excessivo de outra processado para que a', 'start': 380.219, 'duration': 5.16}, {'text': 'sua insulina comece a descer a diminuir', 'start': 382.379, 'duration': 5.371}, {'text': 'aumentando assim a sensibilidade à', 'start': 385.379, 'duration': 5.07}, {'text': 'insulina sobre a água com sal que você', 'start': 387.75, 'duration': 4.66}, {'text': 'já deve ter e pode ser Especialmente', 'start': 390.449, 'duration': 4.121}, {'text': 'benéfica nos casos a seguir vou te dar', 'start': 392.41, 'duration': 4.35}, {'text': 'alguns exemplos pessoas que bebem pouca', 'start': 394.57, 'duration': 5.31}, {'text': 'água que quando levanta o sente tonturas', 'start': 396.76, 'duration': 5.31}, {'text': 'chama hipotensão postural que bebe', 'start': 399.88, 'duration': 4.5}, {'text': 'muitas bebidas diuréticas como café', 'start': 402.07, 'duration': 6.21}, {'text': 'álcool e muito chás pessoas sobre muito', 'start': 404.38, 'duration': 6.48}, {'text': 'stress estão sempre com cortisol alto', 'start': 408.28, 'duration': 4.02}, {'text': 'pois podem sofrer um desequilíbrio', 'start': 410.86, 'duration': 2.69}, {'text': 'hidroeletrolítico', 'start': 412.3, 'duration': 3.54}, {'text': 'pessoas que ingressam no low carb no', 'start': 413.55, 'duration': 4.6}, {'text': 'jejum pode sentir que estou soltando', 'start': 415.84, 'duration': 4.139}, {'text': 'perdendo muita água porque tô quebrando', 'start': 418.15, 'duration': 5.64}, {'text': 'a resistência insulínica e todo e toda', 'start': 419.979, 'duration': 5.361}, {'text': 'vez que você tem uma perda hídrica', 'start': 423.79, 'duration': 4.67}, {'text': 'grande por conta da quebra da insulina', 'start': 425.34, 'duration': 5.35}, {'text': 'inevitavelmente você pode gerar um', 'start': 428.46, 'duration': 3.63}, {'text': 'desequilíbrio hidroeletrolítico', 'start': 430.69, 'duration': 5.61}, {'text': 'uma grande perda de minerais e quando', 'start': 432.09, 'duration': 6.49}, {'text': 'praticar uma atividade o exercícios', 'start': 436.3, 'duration': 4.619}, {'text': 'pessoalmente você não praticante Inicial', 'start': 438.58, 'duration': 5.37}, {'text': 'iniciante do low carb do gejo pode', 'start': 440.919, 'duration': 4.711}, {'text': 'sofrer com queixa de tontura fraqueza', 'start': 443.95, 'duration': 4.439}, {'text': 'hipotensão e é para você que está', 'start': 445.63, 'duration': 5.13}, {'text': 'mudando o estilo de vida e tá ajustando', 'start': 448.389, 'duration': 5.471}, {'text': 'esse é de água e eletrólitos que pode', 'start': 450.76, 'duration': 5.56}, {'text': 'sentir grande benefício com a ingesta de', 'start': 453.86, 'duration': 5.73}, {'text': 'uma colher de chá de sal integral no', 'start': 456.32, 'duration': 5.16}, {'text': 'litro da água para tomar pela manhã', 'start': 459.59, 'duration': 4.17}, {'text': 'durante os seus exercícios ou mesmo a', 'start': 461.48, 'duration': 3.78}, {'text': 'você que não está praticando esses', 'start': 463.76, 'duration': 4.56}, {'text': 'exercícios mas sentiu uma dor de cabeça', 'start': 465.26, 'duration': 4.23}, {'text': 'uma fraqueza nessa mudança', 'start': 468.32, 'duration': 3.39}, {'text': 'comportamental alimentar então', 'start': 469.49, 'duration': 4.14}, {'text': 'normalmente algumas pessoas sentem no', 'start': 471.71, 'duration': 4.23}, {'text': 'jejum low carb como se tivesse sentindo', 'start': 473.63, 'duration': 5.04}, {'text': 'fome na verdade o organismo tá sentindo', 'start': 475.94, 'duration': 6.27}, {'text': 'falta do sal e também quem transpira', 'start': 478.67, 'duration': 5.76}, {'text': 'muito sobre sol e nesse caso eu entro eu', 'start': 482.21, 'duration': 4.47}, {'text': 'naquele pulando joga minha partida de', 'start': 484.43, 'duration': 3.9}, {'text': 'tênis mais de duas horas sobre só eu', 'start': 486.68, 'duration': 4.62}, {'text': 'tenho uma perda descomunal extremamente', 'start': 488.33, 'duration': 4.8}, {'text': 'excessiva muito maior que o dos meus', 'start': 491.3, 'duration': 4.44}, {'text': 'adversários dos meus amigos Então essa é', 'start': 493.13, 'duration': 4.83}, {'text': 'um caso de individualidade que se você', 'start': 495.74, 'duration': 4.56}, {'text': 'se encontra numa condição parecida pode', 'start': 497.96, 'duration': 4.98}, {'text': 'porque prática jejum e come não cobre', 'start': 500.3, 'duration': 5.34}, {'text': 'produtos industrializados sentir na', 'start': 502.94, 'duration': 5.1}, {'text': 'grande transpiração uma diminuição de', 'start': 505.64, 'duration': 4.89}, {'text': 'seus minerais e uma perda do controle de', 'start': 508.04, 'duration': 5.32}, {'text': 'pressão a vigília então quando', 'start': 510.53, 'duration': 5.92}, {'text': 'praticamos Esporte sobre sol longos como', 'start': 513.36, 'duration': 5.76}, {'text': 'endurecer pedals e corrida atletas de', 'start': 516.45, 'duration': 4.62}, {'text': 'corrida pedi perdão já sabem do', 'start': 519.12, 'duration': 4.14}, {'text': 'benefício que uma cápsula de sal pode', 'start': 521.07, 'duration': 4.769}, {'text': 'fazer e é exatamente essa água com sal', 'start': 523.26, 'duration': 3.96}, {'text': 'que eu uso durante a prática do', 'start': 525.839, 'duration': 3.87}, {'text': 'exercício sobre temperaturas altas ou', 'start': 527.22, 'duration': 4.859}, {'text': 'condutora tô esperando muito a verdade é', 'start': 529.709, 'duration': 4.831}, {'text': 'que dias frios já não faço não sinto', 'start': 532.079, 'duration': 4.021}, {'text': 'essa necessidade porque a minha', 'start': 534.54, 'duration': 3.9}, {'text': 'transpiração é muito diminuída e por', 'start': 536.1, 'duration': 4.679}, {'text': 'isso que é importante tratar a', 'start': 538.44, 'duration': 4.8}, {'text': 'individualidade humana e as necessidades', 'start': 540.779, 'duration': 4.921}, {'text': 'individuais que mudam de um indivíduo', 'start': 543.24, 'duration': 4.95}, {'text': 'para outro de acordo com que prático', 'start': 545.7, 'duration': 5.069}, {'text': 'jejum ou não low carb ou não Ou se', 'start': 548.19, 'duration': 5.04}, {'text': 'praticam o jejum low carb e pratico', 'start': 550.769, 'duration': 6.06}, {'text': 'exercícios ou não E essa necessidade é', 'start': 553.23, 'duration': 5.609}, {'text': 'muito individual Sem dúvida nenhuma', 'start': 556.829, 'duration': 5.281}, {'text': 'agora que fique claro a você que ainda', 'start': 558.839, 'duration': 5.24}, {'text': 'conforme processados e ultraprocessados', 'start': 562.11, 'duration': 4.62}, {'text': 'junk food ou não fez mudança alimentar', 'start': 564.079, 'duration': 4.291}, {'text': 'tá com uma circunferência abdominal', 'start': 566.73, 'duration': 4.359}, {'text': 'elevado e retendo água', 'start': 568.37, 'duration': 4.73}, {'text': 'e tal com água não vai trazer nenhum', 'start': 571.089, 'duration': 4.711}, {'text': 'benefício a sua vida combinado Você', 'start': 573.1, 'duration': 5.52}, {'text': 'precisa ainda que significa toda ela', 'start': 575.8, 'duration': 5.94}, {'text': 'para que haja uma carência hídrica e de', 'start': 578.62, 'duration': 5.759}, {'text': 'mineral para que você possa fazer o uso', 'start': 581.74, 'duration': 5.19}, {'text': 'da água com sal como algo que vai trazer', 'start': 584.379, 'duration': 5.76}, {'text': 'benefícios à sua saúde nesse momento que', 'start': 586.93, 'duration': 4.589}, {'text': 'você ainda não recebi ele ficou a sua', 'start': 590.139, 'duration': 2.94}, {'text': 'vida sua alimentação e seu estilo', 'start': 591.519, 'duration': 3.901}, {'text': 'comportamental não a menor e você', 'start': 593.079, 'duration': 4.591}, {'text': 'provavelmente a carregado de só faz', 'start': 595.42, 'duration': 4.709}, {'text': 'sentido que eu tô falando se você se', 'start': 597.67, 'duration': 4.919}, {'text': 'encontra nessa condição não pegue o mais', 'start': 600.129, 'duration': 4.2}, {'text': 'simples e mais fácil que a água com sal', 'start': 602.589, 'duration': 4.47}, {'text': 'primeiro entre para o cargo entre para o', 'start': 604.329, 'duration': 5.67}, {'text': 'jejum pratique exercícios e se houver', 'start': 607.059, 'duration': 5.94}, {'text': 'necessidade faça uso da água com sal', 'start': 609.999, 'duration': 5.19}, {'text': 'como acabei de explicar e sugerir aqui', 'start': 612.999, 'duration': 4.59}, {'text': 'para vocês e se você ficou com dúvida', 'start': 615.189, 'duration': 4.02}, {'text': 'deixa aqui seu comentário deixe aqui sua', 'start': 617.589, 'duration': 3.93}, {'text': 'pergunta a sua dúvida que sabe que eu', 'start': 619.209, 'duration': 4.44}, {'text': 'faço outro vídeo só de perguntas e', 'start': 621.519, 'duration': 4.471}, {'text': 'respostas a respeito desse tema que gera', 'start': 623.649, 'duration': 6.0}, {'text': 'tanta dúvida e tanta e tanta e tanta', 'start': 625.99, 'duration': 6.04}, {'text': 'polêmica não é mesmo e até o próximo', 'start': 629.649, 'duration': 4.121}, {'text': 'vídeo Não deixe de assinar para poder', 'start': 632.03, 'duration': 3.23}, {'text': 'receber as notificações', 'start': 633.77, 'duration': 4.91}, {'text': 'gratidão a constelação', 'start': 635.26, 'duration': 3.42}, {'text': '[Música]', 'start': 639.47, 'duration': 5.179}, {'text': 'E aí', 'start': 646.92, 'duration': 3.0}, {'text': '[Música]', 'start': 650.1, 'duration': 3.56}, {'text': 'E aí', 'start': 652.16, 'duration': 4.59}, {'text': '[Música]', 'start': 653.66, 'duration': 3.09}]\n"
          ]
        }
      ],
      "source": [
        "from youtube_transcript_api import YouTubeTranscriptApi\n",
        "\n",
        "srt = YouTubeTranscriptApi.get_transcript(\"AHx-ztoTNYI\", languages=['pt'])\n",
        "\n",
        "# prints the result\n",
        "print(srt)\n",
        "\n",
        "# https://www.geeksforgeeks.org/python-downloading-captions-from-youtube/"
      ]
    },
    {
      "cell_type": "code",
      "execution_count": null,
      "metadata": {
        "colab": {
          "base_uri": "https://localhost:8080/"
        },
        "id": "2bnG6ME7oYrh",
        "outputId": "c3a366e6-6511-4cbb-ed77-f11428b0e410"
      },
      "outputs": [
        {
          "name": "stdout",
          "output_type": "stream",
          "text": [
            "id do video AHx-ztoTNYI,\n",
            "             Idioma:Portuguese (auto-generated),\n",
            "             Codigo do idioma: pt,\n",
            "             Essa transcricao foi gerada? True,\n",
            "             Essa transcricao pode ser traduzida? True,\n",
            "             Para quais outros idiomas? [{'language': 'Afrikaans', 'language_code': 'af'}, {'language': 'Akan', 'language_code': 'ak'}, {'language': 'Albanian', 'language_code': 'sq'}, {'language': 'Amharic', 'language_code': 'am'}, {'language': 'Arabic', 'language_code': 'ar'}, {'language': 'Armenian', 'language_code': 'hy'}, {'language': 'Assamese', 'language_code': 'as'}, {'language': 'Aymara', 'language_code': 'ay'}, {'language': 'Azerbaijani', 'language_code': 'az'}, {'language': 'Bangla', 'language_code': 'bn'}, {'language': 'Basque', 'language_code': 'eu'}, {'language': 'Belarusian', 'language_code': 'be'}, {'language': 'Bhojpuri', 'language_code': 'bho'}, {'language': 'Bosnian', 'language_code': 'bs'}, {'language': 'Bulgarian', 'language_code': 'bg'}, {'language': 'Burmese', 'language_code': 'my'}, {'language': 'Catalan', 'language_code': 'ca'}, {'language': 'Cebuano', 'language_code': 'ceb'}, {'language': 'Chinese (Simplified)', 'language_code': 'zh-Hans'}, {'language': 'Chinese (Traditional)', 'language_code': 'zh-Hant'}, {'language': 'Corsican', 'language_code': 'co'}, {'language': 'Croatian', 'language_code': 'hr'}, {'language': 'Czech', 'language_code': 'cs'}, {'language': 'Danish', 'language_code': 'da'}, {'language': 'Divehi', 'language_code': 'dv'}, {'language': 'Dutch', 'language_code': 'nl'}, {'language': 'English', 'language_code': 'en'}, {'language': 'Esperanto', 'language_code': 'eo'}, {'language': 'Estonian', 'language_code': 'et'}, {'language': 'Ewe', 'language_code': 'ee'}, {'language': 'Filipino', 'language_code': 'fil'}, {'language': 'Finnish', 'language_code': 'fi'}, {'language': 'French', 'language_code': 'fr'}, {'language': 'Galician', 'language_code': 'gl'}, {'language': 'Ganda', 'language_code': 'lg'}, {'language': 'Georgian', 'language_code': 'ka'}, {'language': 'German', 'language_code': 'de'}, {'language': 'Greek', 'language_code': 'el'}, {'language': 'Guarani', 'language_code': 'gn'}, {'language': 'Gujarati', 'language_code': 'gu'}, {'language': 'Haitian Creole', 'language_code': 'ht'}, {'language': 'Hausa', 'language_code': 'ha'}, {'language': 'Hawaiian', 'language_code': 'haw'}, {'language': 'Hebrew', 'language_code': 'iw'}, {'language': 'Hindi', 'language_code': 'hi'}, {'language': 'Hmong', 'language_code': 'hmn'}, {'language': 'Hungarian', 'language_code': 'hu'}, {'language': 'Icelandic', 'language_code': 'is'}, {'language': 'Igbo', 'language_code': 'ig'}, {'language': 'Indonesian', 'language_code': 'id'}, {'language': 'Irish', 'language_code': 'ga'}, {'language': 'Italian', 'language_code': 'it'}, {'language': 'Japanese', 'language_code': 'ja'}, {'language': 'Javanese', 'language_code': 'jv'}, {'language': 'Kannada', 'language_code': 'kn'}, {'language': 'Kazakh', 'language_code': 'kk'}, {'language': 'Khmer', 'language_code': 'km'}, {'language': 'Kinyarwanda', 'language_code': 'rw'}, {'language': 'Korean', 'language_code': 'ko'}, {'language': 'Krio', 'language_code': 'kri'}, {'language': 'Kurdish', 'language_code': 'ku'}, {'language': 'Kyrgyz', 'language_code': 'ky'}, {'language': 'Lao', 'language_code': 'lo'}, {'language': 'Latin', 'language_code': 'la'}, {'language': 'Latvian', 'language_code': 'lv'}, {'language': 'Lingala', 'language_code': 'ln'}, {'language': 'Lithuanian', 'language_code': 'lt'}, {'language': 'Luxembourgish', 'language_code': 'lb'}, {'language': 'Macedonian', 'language_code': 'mk'}, {'language': 'Malagasy', 'language_code': 'mg'}, {'language': 'Malay', 'language_code': 'ms'}, {'language': 'Malayalam', 'language_code': 'ml'}, {'language': 'Maltese', 'language_code': 'mt'}, {'language': 'Māori', 'language_code': 'mi'}, {'language': 'Marathi', 'language_code': 'mr'}, {'language': 'Mongolian', 'language_code': 'mn'}, {'language': 'Nepali', 'language_code': 'ne'}, {'language': 'Northern Sotho', 'language_code': 'nso'}, {'language': 'Norwegian', 'language_code': 'no'}, {'language': 'Nyanja', 'language_code': 'ny'}, {'language': 'Odia', 'language_code': 'or'}, {'language': 'Oromo', 'language_code': 'om'}, {'language': 'Pashto', 'language_code': 'ps'}, {'language': 'Persian', 'language_code': 'fa'}, {'language': 'Polish', 'language_code': 'pl'}, {'language': 'Portuguese', 'language_code': 'pt'}, {'language': 'Punjabi', 'language_code': 'pa'}, {'language': 'Quechua', 'language_code': 'qu'}, {'language': 'Romanian', 'language_code': 'ro'}, {'language': 'Russian', 'language_code': 'ru'}, {'language': 'Samoan', 'language_code': 'sm'}, {'language': 'Sanskrit', 'language_code': 'sa'}, {'language': 'Scottish Gaelic', 'language_code': 'gd'}, {'language': 'Serbian', 'language_code': 'sr'}, {'language': 'Shona', 'language_code': 'sn'}, {'language': 'Sindhi', 'language_code': 'sd'}, {'language': 'Sinhala', 'language_code': 'si'}, {'language': 'Slovak', 'language_code': 'sk'}, {'language': 'Slovenian', 'language_code': 'sl'}, {'language': 'Somali', 'language_code': 'so'}, {'language': 'Southern Sotho', 'language_code': 'st'}, {'language': 'Spanish', 'language_code': 'es'}, {'language': 'Sundanese', 'language_code': 'su'}, {'language': 'Swahili', 'language_code': 'sw'}, {'language': 'Swedish', 'language_code': 'sv'}, {'language': 'Tajik', 'language_code': 'tg'}, {'language': 'Tamil', 'language_code': 'ta'}, {'language': 'Tatar', 'language_code': 'tt'}, {'language': 'Telugu', 'language_code': 'te'}, {'language': 'Thai', 'language_code': 'th'}, {'language': 'Tigrinya', 'language_code': 'ti'}, {'language': 'Tsonga', 'language_code': 'ts'}, {'language': 'Turkish', 'language_code': 'tr'}, {'language': 'Turkmen', 'language_code': 'tk'}, {'language': 'Ukrainian', 'language_code': 'uk'}, {'language': 'Urdu', 'language_code': 'ur'}, {'language': 'Uyghur', 'language_code': 'ug'}, {'language': 'Uzbek', 'language_code': 'uz'}, {'language': 'Vietnamese', 'language_code': 'vi'}, {'language': 'Welsh', 'language_code': 'cy'}, {'language': 'Western Frisian', 'language_code': 'fy'}, {'language': 'Xhosa', 'language_code': 'xh'}, {'language': 'Yiddish', 'language_code': 'yi'}, {'language': 'Yoruba', 'language_code': 'yo'}, {'language': 'Zulu', 'language_code': 'zu'}].\n"
          ]
        }
      ],
      "source": [
        "lista_transcricao = YouTubeTranscriptApi.list_transcripts(\"AHx-ztoTNYI\")\n",
        "\n",
        "for transcricao in lista_transcricao:\n",
        "    print(f'id do video {transcricao.video_id},\\n \\\n",
        "            Idioma:{transcricao.language},\\n \\\n",
        "            Codigo do idioma: {transcricao.language_code},\\n \\\n",
        "            Essa transcricao foi gerada? {transcricao.is_generated},\\n \\\n",
        "            Essa transcricao pode ser traduzida? {transcricao.is_translatable},\\n \\\n",
        "            Para quais outros idiomas? {transcricao.translation_languages}.')  # Corrected line\n"
      ]
    },
    {
      "cell_type": "code",
      "execution_count": null,
      "metadata": {
        "cellView": "form",
        "colab": {
          "base_uri": "https://localhost:8080/",
          "height": 417,
          "referenced_widgets": [
            "e10b24179f664f6689c70f6257d0a85e",
            "ffe24b21e97e429cb741f0cccfd13e2d",
            "a6fd19ace6f14eabbd4a04ce97534c1c",
            "e267de9f6cad445fb282a78265d5bbe6",
            "7a16f56206084738bf248a47477d0261",
            "42d207b90e42498b903f25f157322566",
            "ced04927b80d455b98e2a886cfde7c3a",
            "dd188c2e57c9405398f77725124bc2f6"
          ]
        },
        "id": "YMIFgSZQo_Qs",
        "outputId": "8168bebf-cd5c-49e9-90e9-e9c3c6524e0b"
      },
      "outputs": [
        {
          "data": {
            "application/vnd.jupyter.widget-view+json": {
              "model_id": "e10b24179f664f6689c70f6257d0a85e",
              "version_major": 2,
              "version_minor": 0
            },
            "text/plain": [
              "Image(value=b'\\x89PNG\\r\\n\\x1a\\n\\x00\\x00\\x00\\rIHDR\\x00\\x00\\x0b@\\x00\\x00\\x02\\xd0\\x08\\x06\\x00\\x00\\x00\\x03\\xb1\\xf1…"
            ]
          },
          "metadata": {},
          "output_type": "display_data"
        },
        {
          "data": {
            "application/vnd.jupyter.widget-view+json": {
              "model_id": "a6fd19ace6f14eabbd4a04ce97534c1c",
              "version_major": 2,
              "version_minor": 0
            },
            "text/plain": [
              "Text(value='', description='Link:', placeholder='Cole aqui o link do vídeo')"
            ]
          },
          "metadata": {},
          "output_type": "display_data"
        },
        {
          "data": {
            "application/vnd.jupyter.widget-view+json": {
              "model_id": "42d207b90e42498b903f25f157322566",
              "version_major": 2,
              "version_minor": 0
            },
            "text/plain": [
              "Textarea(value='', description='Legenda:', disabled=True, layout=Layout(height='300px', width='100%'), placeho…"
            ]
          },
          "metadata": {},
          "output_type": "display_data"
        }
      ],
      "source": [
        "#@title C) Obter transcrição em pt-br e exibir a interface do usuário\n",
        "#@markdown Aqui precisamos criar esta interface ainda.\n",
        "#@markdown #### Aqui basta clicar no play, inserir o endereço o video na caixa .\n",
        "\n",
        "display(logo)\n",
        "display(link_box)\n",
        "display(legenda_box)"
      ]
    },
    {
      "cell_type": "code",
      "execution_count": null,
      "metadata": {
        "cellView": "form",
        "id": "rxkRQEGAsh6O"
      },
      "outputs": [],
      "source": [
        "#@title D) Gerar o audio em português\n",
        "#@markdown #### Aqui ainda por fazer.\n",
        "\n",
        "#teste"
      ]
    },
    {
      "cell_type": "code",
      "execution_count": null,
      "metadata": {
        "cellView": "form",
        "id": "MuAnINEbszX7"
      },
      "outputs": [],
      "source": [
        "#@title E) Salvar o audio como um mp4\n",
        "#@markdown #### Aqui ainda por fazer.\n",
        "from moviepy.editor import *\n",
        "\n",
        "def create_video_from_audio(audio_file, output_file):\n",
        "    audio = AudioFileClip(audio_file)\n",
        "\n",
        "    width, height = 640, 480\n",
        "    video = ColorClip((width, height), color=(255, 255, 255), duration=audio.duration)\n",
        "\n",
        "    video = video.set_audio(audio)\n",
        "\n",
        "    video.write_videofile(output_file, fps=24, codec='libx264', audio_codec='aac')\n",
        "\n",
        "audio_file = 'input_files/audio_files/faithtech.mp3'\n",
        "output_file = 'output_files/output_video.mp4'\n",
        "create_video_from_audio(audio_file, output_file)\n",
        "\n",
        "#teste"
      ]
    },
    {
      "cell_type": "code",
      "execution_count": null,
      "metadata": {
        "cellView": "form",
        "id": "Eecge6T-tD7Z"
      },
      "outputs": [],
      "source": [
        "#@title F) Fazer o upload em uma conta do youtube\n",
        "#@markdown #### Aqui ainda por fazer.\n",
        "\n",
        "#teste"
      ]
    }
  ],
  "metadata": {
    "colab": {
      "provenance": []
    },
    "kernelspec": {
      "display_name": "Python 3",
      "name": "python3"
    },
    "language_info": {
      "name": "python"
    },
    "widgets": {
      "application/vnd.jupyter.widget-state+json": {
        "42d207b90e42498b903f25f157322566": {
          "model_module": "@jupyter-widgets/controls",
          "model_module_version": "1.5.0",
          "model_name": "TextareaModel",
          "state": {
            "_dom_classes": [],
            "_model_module": "@jupyter-widgets/controls",
            "_model_module_version": "1.5.0",
            "_model_name": "TextareaModel",
            "_view_count": null,
            "_view_module": "@jupyter-widgets/controls",
            "_view_module_version": "1.5.0",
            "_view_name": "TextareaView",
            "continuous_update": true,
            "description": "Legenda:",
            "description_tooltip": null,
            "disabled": true,
            "layout": "IPY_MODEL_ced04927b80d455b98e2a886cfde7c3a",
            "placeholder": "Legenda do vídeo",
            "rows": null,
            "style": "IPY_MODEL_dd188c2e57c9405398f77725124bc2f6",
            "value": ""
          }
        },
        "7a16f56206084738bf248a47477d0261": {
          "model_module": "@jupyter-widgets/controls",
          "model_module_version": "1.5.0",
          "model_name": "DescriptionStyleModel",
          "state": {
            "_model_module": "@jupyter-widgets/controls",
            "_model_module_version": "1.5.0",
            "_model_name": "DescriptionStyleModel",
            "_view_count": null,
            "_view_module": "@jupyter-widgets/base",
            "_view_module_version": "1.2.0",
            "_view_name": "StyleView",
            "description_width": ""
          }
        },
        "a6fd19ace6f14eabbd4a04ce97534c1c": {
          "model_module": "@jupyter-widgets/controls",
          "model_module_version": "1.5.0",
          "model_name": "TextModel",
          "state": {
            "_dom_classes": [],
            "_model_module": "@jupyter-widgets/controls",
            "_model_module_version": "1.5.0",
            "_model_name": "TextModel",
            "_view_count": null,
            "_view_module": "@jupyter-widgets/controls",
            "_view_module_version": "1.5.0",
            "_view_name": "TextView",
            "continuous_update": true,
            "description": "Link:",
            "description_tooltip": null,
            "disabled": false,
            "layout": "IPY_MODEL_e267de9f6cad445fb282a78265d5bbe6",
            "placeholder": "Cole aqui o link do vídeo",
            "style": "IPY_MODEL_7a16f56206084738bf248a47477d0261",
            "value": "https://www.youtube.com/watch?v=kmDMrxUSXKY"
          }
        },
        "ced04927b80d455b98e2a886cfde7c3a": {
          "model_module": "@jupyter-widgets/base",
          "model_module_version": "1.2.0",
          "model_name": "LayoutModel",
          "state": {
            "_model_module": "@jupyter-widgets/base",
            "_model_module_version": "1.2.0",
            "_model_name": "LayoutModel",
            "_view_count": null,
            "_view_module": "@jupyter-widgets/base",
            "_view_module_version": "1.2.0",
            "_view_name": "LayoutView",
            "align_content": null,
            "align_items": null,
            "align_self": null,
            "border": null,
            "bottom": null,
            "display": null,
            "flex": null,
            "flex_flow": null,
            "grid_area": null,
            "grid_auto_columns": null,
            "grid_auto_flow": null,
            "grid_auto_rows": null,
            "grid_column": null,
            "grid_gap": null,
            "grid_row": null,
            "grid_template_areas": null,
            "grid_template_columns": null,
            "grid_template_rows": null,
            "height": "300px",
            "justify_content": null,
            "justify_items": null,
            "left": null,
            "margin": null,
            "max_height": null,
            "max_width": null,
            "min_height": null,
            "min_width": null,
            "object_fit": null,
            "object_position": null,
            "order": null,
            "overflow": null,
            "overflow_x": null,
            "overflow_y": null,
            "padding": null,
            "right": null,
            "top": null,
            "visibility": null,
            "width": "100%"
          }
        },
        "dd188c2e57c9405398f77725124bc2f6": {
          "model_module": "@jupyter-widgets/controls",
          "model_module_version": "1.5.0",
          "model_name": "DescriptionStyleModel",
          "state": {
            "_model_module": "@jupyter-widgets/controls",
            "_model_module_version": "1.5.0",
            "_model_name": "DescriptionStyleModel",
            "_view_count": null,
            "_view_module": "@jupyter-widgets/base",
            "_view_module_version": "1.2.0",
            "_view_name": "StyleView",
            "description_width": ""
          }
        },
        "e10b24179f664f6689c70f6257d0a85e": {
          "model_module": "@jupyter-widgets/controls",
          "model_module_version": "1.5.0",
          "model_name": "ImageModel",
          "state": {
            "_dom_classes": [],
            "_model_module": "@jupyter-widgets/controls",
            "_model_module_version": "1.5.0",
            "_model_name": "ImageModel",
            "_view_count": null,
            "_view_module": "@jupyter-widgets/controls",
            "_view_module_version": "1.5.0",
            "_view_name": "ImageView",
            "format": "png",
            "height": "100",
            "layout": "IPY_MODEL_ffe24b21e97e429cb741f0cccfd13e2d",
            "width": "150"
          }
        },
        "e267de9f6cad445fb282a78265d5bbe6": {
          "model_module": "@jupyter-widgets/base",
          "model_module_version": "1.2.0",
          "model_name": "LayoutModel",
          "state": {
            "_model_module": "@jupyter-widgets/base",
            "_model_module_version": "1.2.0",
            "_model_name": "LayoutModel",
            "_view_count": null,
            "_view_module": "@jupyter-widgets/base",
            "_view_module_version": "1.2.0",
            "_view_name": "LayoutView",
            "align_content": null,
            "align_items": null,
            "align_self": null,
            "border": null,
            "bottom": null,
            "display": null,
            "flex": null,
            "flex_flow": null,
            "grid_area": null,
            "grid_auto_columns": null,
            "grid_auto_flow": null,
            "grid_auto_rows": null,
            "grid_column": null,
            "grid_gap": null,
            "grid_row": null,
            "grid_template_areas": null,
            "grid_template_columns": null,
            "grid_template_rows": null,
            "height": null,
            "justify_content": null,
            "justify_items": null,
            "left": null,
            "margin": null,
            "max_height": null,
            "max_width": null,
            "min_height": null,
            "min_width": null,
            "object_fit": null,
            "object_position": null,
            "order": null,
            "overflow": null,
            "overflow_x": null,
            "overflow_y": null,
            "padding": null,
            "right": null,
            "top": null,
            "visibility": null,
            "width": null
          }
        },
        "ffe24b21e97e429cb741f0cccfd13e2d": {
          "model_module": "@jupyter-widgets/base",
          "model_module_version": "1.2.0",
          "model_name": "LayoutModel",
          "state": {
            "_model_module": "@jupyter-widgets/base",
            "_model_module_version": "1.2.0",
            "_model_name": "LayoutModel",
            "_view_count": null,
            "_view_module": "@jupyter-widgets/base",
            "_view_module_version": "1.2.0",
            "_view_name": "LayoutView",
            "align_content": null,
            "align_items": null,
            "align_self": null,
            "border": null,
            "bottom": null,
            "display": null,
            "flex": null,
            "flex_flow": null,
            "grid_area": null,
            "grid_auto_columns": null,
            "grid_auto_flow": null,
            "grid_auto_rows": null,
            "grid_column": null,
            "grid_gap": null,
            "grid_row": null,
            "grid_template_areas": null,
            "grid_template_columns": null,
            "grid_template_rows": null,
            "height": null,
            "justify_content": null,
            "justify_items": null,
            "left": null,
            "margin": null,
            "max_height": null,
            "max_width": null,
            "min_height": null,
            "min_width": null,
            "object_fit": null,
            "object_position": null,
            "order": null,
            "overflow": null,
            "overflow_x": null,
            "overflow_y": null,
            "padding": null,
            "right": null,
            "top": null,
            "visibility": null,
            "width": null
          }
        }
      }
    }
  },
  "nbformat": 4,
  "nbformat_minor": 0
}
